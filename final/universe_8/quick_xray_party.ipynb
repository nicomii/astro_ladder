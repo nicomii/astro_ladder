{
 "cells": [
  {
   "cell_type": "code",
   "execution_count": 35,
   "metadata": {},
   "outputs": [
    {
     "name": "stdout",
     "output_type": "stream",
     "text": [
      "                                                  Name   PL_distance  \\\n",
      "0    Cheese-0.12734780487804878Pizza-12.30588292682...  18812.991250   \n",
      "1    Cheese-0.5590729881823298Pizza-15.085296567248...  17547.473092   \n",
      "2    Cheese-0.656434251968504Pizza-5.26184074803149...  26333.855891   \n",
      "3                          Cheese-00.1Pizza-12.3Galaxy  18812.991250   \n",
      "4                          Cheese-00.6Pizza-15.1Galaxy  17547.473092   \n",
      "..                                                 ...           ...   \n",
      "244                                 X038.5-Y029.5-N583  28566.185085   \n",
      "245                                 X039.6-Y-10.7-N639   3671.813606   \n",
      "246                                 X041.1-Y032.0-N398           NaN   \n",
      "247                                 X041.5-Y-04.3-N229   1034.291533   \n",
      "248                                 X041.7-Y036.3-N523  35178.668659   \n",
      "\n",
      "          PL_unc    MS_distance      MS_unc  \n",
      "0    1457.117253   96593.917273  125.152810  \n",
      "1    1527.809894  104671.966989  135.619211  \n",
      "2    1934.280724  166286.818802  215.451068  \n",
      "3    1457.117253   96593.917273  125.152810  \n",
      "4    1527.809894  104671.966989  135.619211  \n",
      "..           ...            ...         ...  \n",
      "244  2331.714211  161938.157492  209.816685  \n",
      "245   304.080148   25551.441922   33.105964  \n",
      "246          NaN  186837.345378  242.077550  \n",
      "247   155.439112    5208.301611    6.748185  \n",
      "248  2676.359682  185497.299954  240.341307  \n",
      "\n",
      "[249 rows x 5 columns]\n"
     ]
    }
   ],
   "source": [
    "import pandas as pd\n",
    "\n",
    "datapath = 'universe_8' \n",
    "galaxDists = pd.read_csv('Galaxy_Distances.csv', sep = ' ')\n",
    "xrayData = pd.read_csv('Flash_Data.csv', sep = ' ')\n",
    "print(galaxDists)"
   ]
  },
  {
   "cell_type": "code",
   "execution_count": 47,
   "metadata": {},
   "outputs": [
    {
     "ename": "ValueError",
     "evalue": "could not convert string to float: '.261840748031496Ga'",
     "output_type": "error",
     "traceback": [
      "\u001b[1;31m---------------------------------------------------------------------------\u001b[0m",
      "\u001b[1;31mValueError\u001b[0m                                Traceback (most recent call last)",
      "Cell \u001b[1;32mIn[47], line 20\u001b[0m\n\u001b[0;32m     11\u001b[0m \u001b[38;5;66;03m# trying to get the x and y pos of the galaxies from their names\u001b[39;00m\n\u001b[0;32m     12\u001b[0m \u001b[38;5;66;03m# but x and y is inconsistent in the name\u001b[39;00m\n\u001b[0;32m     13\u001b[0m \u001b[38;5;66;03m# two options: use regex but i tried and not working\u001b[39;00m\n\u001b[0;32m     14\u001b[0m \u001b[38;5;66;03m# OR do back to where the galaxies are made and print out their x and y as well as the other data in csv\u001b[39;00m\n\u001b[0;32m     15\u001b[0m \u001b[38;5;66;03m# they were made in galaxy_finder\u001b[39;00m\n\u001b[0;32m     17\u001b[0m equats[i] \u001b[38;5;241m=\u001b[39m name[\u001b[38;5;241m7\u001b[39m:\u001b[38;5;241m24\u001b[39m]\n\u001b[1;32m---> 20\u001b[0m polars[i] \u001b[38;5;241m=\u001b[39m name[\u001b[38;5;241m31\u001b[39m:\u001b[38;5;241m49\u001b[39m]\n\u001b[0;32m     21\u001b[0m dists[i] \u001b[38;5;241m=\u001b[39m galaxDists[\u001b[38;5;124m'\u001b[39m\u001b[38;5;124mMS_distance\u001b[39m\u001b[38;5;124m'\u001b[39m][i]\n",
      "\u001b[1;31mValueError\u001b[0m: could not convert string to float: '.261840748031496Ga'"
     ]
    }
   ],
   "source": [
    "import numpy as np\n",
    "import re\n",
    "\n",
    "equats, polars, dists = np.zeros(len(galaxDists)), np.zeros(len(galaxDists)), np.zeros(len(galaxDists))\n",
    "\n",
    "\n",
    "    \n",
    "\n",
    "for i in range(len(galaxDists)):\n",
    "    name = galaxDists['Name'][i]\n",
    "    # trying to get the x and y pos of the galaxies from their names\n",
    "    # but x and y is inconsistent in the name\n",
    "    # two options: use regex but i tried and not working\n",
    "    # OR do back to where the galaxies are made and print out their x and y as well as the other data in csv\n",
    "    # they were made in galaxy_finder\n",
    "    \n",
    "    equats[i] = name[7:24]\n",
    "    \n",
    "    \n",
    "    polars[i] = name[31:49]\n",
    "    dists[i] = galaxDists['MS_distance'][i]"
   ]
  },
  {
   "cell_type": "code",
   "execution_count": null,
   "metadata": {},
   "outputs": [],
   "source": [
    "closeflashes = xrayData.loc[xrayData['Photon-Count'] > 1e6]\n",
    "print(closeflashes)"
   ]
  },
  {
   "cell_type": "code",
   "execution_count": null,
   "metadata": {},
   "outputs": [],
   "source": [
    "lumins = []\n",
    "delta = 1.5\n",
    "for i, flash in closeflashes.iterrows():\n",
    "    for j, equat in enumerate(equats):\n",
    "        if (flash['Equatorial'] - delta <= equat <= flash['Equatorial'] + delta\n",
    "           ) and (flash['Polar'] - delta <= polars[j] <= flash['Polar'] + delta):\n",
    "            lumin = flash['Photon-Count'] * 4 * np.pi * dists[j]**2\n",
    "            lumins.append(lumin)\n",
    "lumins = np.array(lumins)\n",
    "print(lumins)"
   ]
  },
  {
   "cell_type": "code",
   "execution_count": null,
   "metadata": {},
   "outputs": [],
   "source": [
    "base_lumin = np.mean(lumins)\n",
    "xraydists = np.zeros(len(xrayData))\n",
    "for i, flash in xrayData.iterrows():\n",
    "    xraydists[i] = np.sqrt(base_lumin / (4 * np.pi * flash['Photon-Count']))\n"
   ]
  },
  {
   "cell_type": "code",
   "execution_count": null,
   "metadata": {},
   "outputs": [],
   "source": [
    "# created this data in finding_galaxies.ipynb\n",
    "distGalaxData = pd.read_csv(datapath + '/Distant_Galaxy_Data.csv')\n",
    "speeds = np.zeros(len(xrayData))\n",
    "delta = 0.5\n",
    "for i, flash in xrayData.iterrows():\n",
    "    for j, equat in enumerate(distGalaxData['Equatorial']):\n",
    "        if (flash['Equatorial'] - delta <= equat <= flash['Equatorial'] + delta\n",
    "           ) and (flash['Polar'] - delta <= distGalaxData['Polar'][j] <= flash['Polar'] + delta):\n",
    "            speeds[i] = distGalaxData['RadialVelocity'][j]"
   ]
  },
  {
   "cell_type": "code",
   "execution_count": null,
   "metadata": {},
   "outputs": [],
   "source": [
    "import matplotlib.pyplot as plt\n",
    "\n",
    "grad, yint = np.polyfit(xraydists, speeds, 1)\n",
    "xvals = np.array([0, max(xraydists)])\n",
    "\n",
    "print(f\"m = {round(grad * 1e6, 2)} km/s/Mpc; y-int = {round(yint, 2)} km/s\")\n",
    "\n",
    "fig, ax = plt.subplots()\n",
    "ax.scatter(xraydists, speeds)\n",
    "ax.plot(xvals, grad * xvals + yint, 'r-')\n",
    "ax.set_xlabel(\"Distance (pc)\");\n",
    "ax.set_ylabel(\"Radial Velocity (km/s)\");"
   ]
  },
  {
   "cell_type": "code",
   "execution_count": null,
   "metadata": {},
   "outputs": [],
   "source": [
    "distGalaxData['Distance'] = (distGalaxData['RadialVelocity'].to_numpy() - yint) / grad"
   ]
  },
  {
   "cell_type": "markdown",
   "metadata": {},
   "source": [
    "homogeneous universe code\n"
   ]
  }
 ],
 "metadata": {
  "kernelspec": {
   "display_name": "base",
   "language": "python",
   "name": "python3"
  },
  "language_info": {
   "codemirror_mode": {
    "name": "ipython",
    "version": 3
   },
   "file_extension": ".py",
   "mimetype": "text/x-python",
   "name": "python",
   "nbconvert_exporter": "python",
   "pygments_lexer": "ipython3",
   "version": "3.9.16"
  }
 },
 "nbformat": 4,
 "nbformat_minor": 2
}
