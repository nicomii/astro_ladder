#!/usr/bin/env python3
# -*- coding: utf-8 -*-
"""
Created on Thu Apr 11 11:28:13 2024

@author: anikamondal
"""

import numpy as np
import matplotlib.pyplot as plt
from sklearn.cluster import DBSCAN
from sklearn import cluster
import pandas as pd

ddir = "/Users/anikamondal/Desktop/astro_ladder-main/final/universe_8/"
stars = pd.read_csv(ddir + 'combined_stars.csv') 
X_stars, Y_stars, rad_velocity, parallax = stars["X"], stars["Y"], stars["RadialVelocity"], stars["Parallax"]

# Filter stars based on parallax
star_index = [i for i, x in enumerate(parallax) if x <= 0.0001]

# Find the X and Y positions of the respective indexes of the far away stars
X_pos = [X_stars[i] for i in star_index]  
Y_pos = [Y_stars[i] for i in star_index]

# Combine X and Y positions into a 2D array
coords = np.column_stack((X_pos, Y_pos))

# Perform DBSCAN clustering
clustering = cluster.DBSCAN(eps=0.3, min_samples=40, n_jobs=-1).fit(coords)

# Get the cluster labels
labels = clustering.labels_

# Create a scatter plot of all clusters with colormap of velocity
fig, ax = plt.subplots(figsize=(18, 9))

# Define a colormap for velocity
cmap = plt.get_cmap('bwr')

# Plot each cluster with a different color
for clust in range(0, max(labels) + 1):
    # Get the indices of stars in the current cluster
    cluster_indices = np.where(labels == clust)[0]
    
    # Get the velocities of stars in the current cluster
    velocities = rad_velocity.iloc[cluster_indices].values
    
    # Get the positions of stars in the current cluster
    cluster_positions = coords[cluster_indices]
    
    # Scatter plot of stars in the current cluster with colormap based on velocity
    sc = ax.scatter(cluster_positions[:, 0], cluster_positions[:, 1], c=velocities, cmap=cmap, alpha=0.8, s=0.1)
    
# Add colorbar
cbar = plt.colorbar(sc)
cbar.set_label('Radial Velocity')
cbar.ax.yaxis.label.set_color('white')
cbar.ax.tick_params(color='white')
cbar.ax.yaxis.set_tick_params(color='white')
cbar.ax.yaxis.set_tick_params(color='white', which='both')
cbar.ax.tick_params(colors='white')  # Color of the ticks

# Set limits for the x-axis and y-axis to show only a small section
ax.set_xlim(-20, 20)  # Adjust these values as needed
ax.set_ylim(-20, 2
            0)  # Adjust these values as needed

fig.patch.set_facecolor('black')
ax.set_facecolor('black')

# Set the color of the axes and labels to white
ax.spines['bottom'].set_color('white')
ax.spines['left'].set_color('white')
ax.xaxis.label.set_color('white')
ax.yaxis.label.set_color('white')
ax.tick_params(axis='x', colors='white')
ax.tick_params(axis='y', colors='white')

# Set the color of the title and colorbar label to white
ax.title.set_color('white')


# Show plot
plt.xlabel('X Position')
plt.ylabel('Y Position')
plt.title('Galaxy Clusters with Colormap of Radial Velocity')
ax.scatter(0, 0, s=100, c='green')
# Annotate the large point
ax.annotate('New Earrth', (0, 2), color='green', fontsize=12, ha='center', va='bottom')
plt.show()