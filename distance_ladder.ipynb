{
 "cells": [
  {
   "cell_type": "markdown",
   "metadata": {},
   "source": [
    "##### Hi! Welcome back to the Distance Ladder Project.\n"
   ]
  },
  {
   "cell_type": "code",
   "execution_count": 1,
   "metadata": {},
   "outputs": [
    {
     "name": "stderr",
     "output_type": "stream",
     "text": [
      "C:\\Users\\neha\\AppData\\Local\\Temp\\ipykernel_12824\\2746787847.py:12: MatplotlibDeprecationWarning: The seaborn styles shipped by Matplotlib are deprecated since 3.6, as they no longer correspond to the styles shipped by seaborn. However, they will remain available as 'seaborn-v0_8-<style>'. Alternatively, directly use the seaborn API instead.\n",
      "  mpl.style.use('seaborn-colorblind') # colourblind-friendly colour scheme\n"
     ]
    }
   ],
   "source": [
    "import numpy as np # for maths \n",
    "import matplotlib # for plotting \n",
    "import matplotlib as mpl\n",
    "import matplotlib.pyplot as plt\n",
    "\n",
    "import os \n",
    "\n",
    "import pandas as pd # pandas is a popular library in industry for manipulating large data tables\n",
    "\n",
    "# configure notebook for plotting\n",
    "%matplotlib inline \n",
    "mpl.style.use('seaborn-colorblind') # colourblind-friendly colour scheme\n",
    "\n",
    "# define default plot settings\n",
    "matplotlib.rcParams['image.origin'] = 'lower'\n",
    "matplotlib.rcParams['figure.figsize']=(8.0,6.0)    #(6.0,4.0)\n",
    "matplotlib.rcParams['font.size']=16              #10 \n",
    "matplotlib.rcParams['savefig.dpi']= 300             #72 \n",
    "\n",
    "import warnings\n",
    "warnings.filterwarnings('ignore')"
   ]
  },
  {
   "cell_type": "code",
   "execution_count": 2,
   "metadata": {},
   "outputs": [
    {
     "name": "stdout",
     "output_type": "stream",
     "text": [
      "Index(['Name', 'X', 'Y', 'BlueF', 'GreenF', 'RedF', 'Parallax',\n",
      "       'RadialVelocity', 'Variable?'],\n",
      "      dtype='object')\n"
     ]
    }
   ],
   "source": [
    "ddir = \"universe_8/\"\n",
    "stars = pd.read_csv(ddir+'Top/Star_Data.csv') \n",
    "print(stars.keys())"
   ]
  },
  {
   "cell_type": "code",
   "execution_count": null,
   "metadata": {},
   "outputs": [],
   "source": [
    "all_points = glob.glob('U01/*/*/points.txt')"
   ]
  }
 ],
 "metadata": {
  "kernelspec": {
   "display_name": "base",
   "language": "python",
   "name": "python3"
  },
  "language_info": {
   "codemirror_mode": {
    "name": "ipython",
    "version": 3
   },
   "file_extension": ".py",
   "mimetype": "text/x-python",
   "name": "python",
   "nbconvert_exporter": "python",
   "pygments_lexer": "ipython3",
   "version": "3.9.16"
  }
 },
 "nbformat": 4,
 "nbformat_minor": 2
}
