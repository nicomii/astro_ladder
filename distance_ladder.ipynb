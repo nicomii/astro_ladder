{
 "cells": [
  {
   "cell_type": "markdown",
   "metadata": {},
   "source": [
    "##### Hi! Welcome back to the Distance Ladder Project.\n"
   ]
  },
  {
   "cell_type": "code",
   "execution_count": 3,
   "metadata": {},
   "outputs": [
    {
     "name": "stderr",
     "output_type": "stream",
     "text": [
      "C:\\Users\\neha\\AppData\\Local\\Temp\\ipykernel_4108\\2746787847.py:12: MatplotlibDeprecationWarning: The seaborn styles shipped by Matplotlib are deprecated since 3.6, as they no longer correspond to the styles shipped by seaborn. However, they will remain available as 'seaborn-v0_8-<style>'. Alternatively, directly use the seaborn API instead.\n",
      "  mpl.style.use('seaborn-colorblind') # colourblind-friendly colour scheme\n"
     ]
    }
   ],
   "source": [
    "import numpy as np # for maths \n",
    "import matplotlib # for plotting \n",
    "import matplotlib as mpl\n",
    "import matplotlib.pyplot as plt\n",
    "\n",
    "import os \n",
    "\n",
    "import pandas as pd # pandas is a popular library in industry for manipulating large data tables\n",
    "\n",
    "# configure notebook for plotting\n",
    "%matplotlib inline \n",
    "mpl.style.use('seaborn-colorblind') # colourblind-friendly colour scheme\n",
    "\n",
    "# define default plot settings\n",
    "matplotlib.rcParams['image.origin'] = 'lower'\n",
    "matplotlib.rcParams['figure.figsize']=(8.0,6.0)    #(6.0,4.0)\n",
    "matplotlib.rcParams['font.size']=16              #10 \n",
    "matplotlib.rcParams['savefig.dpi']= 300             #72 \n",
    "\n",
    "import warnings\n",
    "warnings.filterwarnings('ignore')"
   ]
  },
  {
   "cell_type": "markdown",
   "metadata": {},
   "source": [
    "Let's do some automation ~~~~\n"
   ]
  },
  {
   "cell_type": "code",
   "execution_count": 15,
   "metadata": {},
   "outputs": [
    {
     "ename": "AttributeError",
     "evalue": "'list' object has no attribute 'X'",
     "output_type": "error",
     "traceback": [
      "\u001b[1;31m---------------------------------------------------------------------------\u001b[0m",
      "\u001b[1;31mAttributeError\u001b[0m                            Traceback (most recent call last)",
      "Cell \u001b[1;32mIn[15], line 1\u001b[0m\n\u001b[1;32m----> 1\u001b[0m d \u001b[38;5;241m=\u001b[39m np\u001b[38;5;241m.\u001b[39msqrt((\u001b[43mstars\u001b[49m\u001b[38;5;241;43m.\u001b[39;49m\u001b[43mX\u001b[49m\u001b[38;5;241m-\u001b[39mcentre[\u001b[38;5;241m0\u001b[39m])\u001b[38;5;241m*\u001b[39m\u001b[38;5;241m*\u001b[39m \u001b[38;5;241m2\u001b[39m \u001b[38;5;241m+\u001b[39m (stars\u001b[38;5;241m.\u001b[39mY \u001b[38;5;241m-\u001b[39m centre[\u001b[38;5;241m1\u001b[39m])\u001b[38;5;241m*\u001b[39m\u001b[38;5;241m*\u001b[39m\u001b[38;5;241m2\u001b[39m)\n\u001b[0;32m      2\u001b[0m galaxy \u001b[38;5;241m=\u001b[39m stars[d\u001b[38;5;241m<\u001b[39m\u001b[38;5;241m1\u001b[39m] \u001b[38;5;66;03m# filter to only close ones\u001b[39;00m\n\u001b[0;32m      3\u001b[0m plt\u001b[38;5;241m.\u001b[39mscatter(galaxy\u001b[38;5;241m.\u001b[39mX,galaxy\u001b[38;5;241m.\u001b[39mY,c\u001b[38;5;241m=\u001b[39mgalaxy\u001b[38;5;241m.\u001b[39mRadialVelocity,cmap\u001b[38;5;241m=\u001b[39mmpl\u001b[38;5;241m.\u001b[39mcm\u001b[38;5;241m.\u001b[39mseismic) \u001b[38;5;66;03m# let's overplot the radial velocities\u001b[39;00m\n",
      "\u001b[1;31mAttributeError\u001b[0m: 'list' object has no attribute 'X'"
     ]
    }
   ],
   "source": [
    "d = np.sqrt((stars.X-centre[0])** 2 + (stars.Y - centre[1])**2)\n",
    "galaxy = stars[d<1] # filter to only close ones\n",
    "plt.scatter(galaxy.X,galaxy.Y,c=galaxy.RadialVelocity,cmap=mpl.cm.seismic) # let's overplot the radial velocities\n",
    "plt.colorbar()\n",
    "plt.scatter(*centre,color='C2',marker='X') # * expands the elements of a list \n",
    "plt.xlabel('x (pix)')\n",
    "plt.ylabel('y (pix)')"
   ]
  },
  {
   "cell_type": "code",
   "execution_count": 14,
   "metadata": {},
   "outputs": [
    {
     "ename": "NameError",
     "evalue": "name 'galaxy' is not defined",
     "output_type": "error",
     "traceback": [
      "\u001b[1;31m---------------------------------------------------------------------------\u001b[0m",
      "\u001b[1;31mNameError\u001b[0m                                 Traceback (most recent call last)",
      "Cell \u001b[1;32mIn[14], line 1\u001b[0m\n\u001b[1;32m----> 1\u001b[0m m0, m1, m2 \u001b[38;5;241m=\u001b[39m (np\u001b[38;5;241m.\u001b[39mlog10(\u001b[43mgalaxy\u001b[49m[\u001b[38;5;124m'\u001b[39m\u001b[38;5;124mBlueF\u001b[39m\u001b[38;5;124m'\u001b[39m]), \n\u001b[0;32m      2\u001b[0m               np\u001b[38;5;241m.\u001b[39mlog10(galaxy[\u001b[38;5;124m'\u001b[39m\u001b[38;5;124mGreenF\u001b[39m\u001b[38;5;124m'\u001b[39m]), \n\u001b[0;32m      3\u001b[0m               np\u001b[38;5;241m.\u001b[39mlog10(galaxy[\u001b[38;5;124m'\u001b[39m\u001b[38;5;124mRedF\u001b[39m\u001b[38;5;124m'\u001b[39m])) \n\u001b[0;32m      4\u001b[0m colour \u001b[38;5;241m=\u001b[39m m2\u001b[38;5;241m-\u001b[39mm0\n\u001b[0;32m      6\u001b[0m colour \u001b[38;5;241m=\u001b[39m m2\u001b[38;5;241m-\u001b[39mm0\n",
      "\u001b[1;31mNameError\u001b[0m: name 'galaxy' is not defined"
     ]
    }
   ],
   "source": [
    "m0, m1, m2 = (np.log10(galaxy['BlueF']), \n",
    "              np.log10(galaxy['GreenF']), \n",
    "              np.log10(galaxy['RedF'])) \n",
    "colour = m2-m0\n",
    "\n",
    "colour = m2-m0\n",
    "\n",
    "s = plt.scatter(colour,m1)\n",
    "plt.ylabel('Log Flux 1')\n",
    "plt.xlabel('Log Flux 2 - Log Flux 0')"
   ]
  },
  {
   "cell_type": "code",
   "execution_count": 9,
   "metadata": {},
   "outputs": [],
   "source": [
    "import glob # this package lets you search for filenames\n",
    "import os\n",
    "\n",
    "ddir = \"universe_8\"\n",
    "\n",
    "all_stars = glob.glob(ddir+'*/Star_Data.csv')\n"
   ]
  },
  {
   "cell_type": "code",
   "execution_count": 13,
   "metadata": {},
   "outputs": [
    {
     "data": {
      "text/plain": [
       "Text(0.5, 0, 'Log Flux 2 - Log Flux 0')"
      ]
     },
     "execution_count": 13,
     "metadata": {},
     "output_type": "execute_result"
    },
    {
     "data": {
      "image/png": "[encoded data removed]",
      "text/plain": [
       "<Figure size 800x600 with 1 Axes>"
      ]
     },
     "metadata": {},
     "output_type": "display_data"
    }
   ],
   "source": [
    "fig, ax1 = plt.subplots(1,1)\n",
    "for j, catalog in enumerate(all_stars):\n",
    "    try:\n",
    "        this = pd.read_csv(catalog)\n",
    "        \n",
    "        thispar = this.Parallax\n",
    "        thism0, thism1, thism2 = (np.log10(this.BlueF), \n",
    "                                  np.log10(this.GreenF), \n",
    "                                  np.log10(this.RedF))\n",
    "        thiscolour = thism2-thism0\n",
    "        dist = 1/thispar\n",
    "        abs_mag = thism1 + 2*np.log10(dist) \n",
    "        mm = thispar>0.01 # only pick the ones with good signal-to-noise - 10 mas is ok \n",
    "        \n",
    "        ax1.scatter(thiscolour[mm],abs_mag[mm],color='C1')\n",
    "    except:\n",
    "        pass\n",
    "\n",
    "plt.ylabel('Log Flux 1')\n",
    "plt.xlabel('Log Flux 2 - Log Flux 0')"
   ]
  }
 ],
 "metadata": {
  "kernelspec": {
   "display_name": "base",
   "language": "python",
   "name": "python3"
  },
  "language_info": {
   "codemirror_mode": {
    "name": "ipython",
    "version": 3
   },
   "file_extension": ".py",
   "mimetype": "text/x-python",
   "name": "python",
   "nbconvert_exporter": "python",
   "pygments_lexer": "ipython3",
   "version": "3.9.16"
  }
 },
 "nbformat": 4,
 "nbformat_minor": 2
}
